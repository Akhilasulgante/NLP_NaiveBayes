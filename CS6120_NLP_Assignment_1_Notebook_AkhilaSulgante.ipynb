{
 "cells": [
  {
   "cell_type": "markdown",
   "id": "bc97d6da",
   "metadata": {
    "id": "bc97d6da"
   },
   "source": [
    "## CS 6120: Natural Language Processing - Prof. Ahmad Uzair\n",
    "\n",
    "### Assignment 1: Naive Bayes\n",
    "### Total Points: 100 points\n",
    "\n",
    "You will be dealing with movie review data that includes both positive and negative reviews in this assignment. You will use Sentiment Analysis to assess if a given review is positive or negative using the provided dataset.\n",
    "\n",
    "Therefore, we will make use of Naive Bayes algorithm to perform sentiment analysis on the movie review dataset.\n",
    "\n",
    "## Importing the Libraries"
   ]
  },
  {
   "cell_type": "code",
   "execution_count": 1,
   "id": "a03450ac",
   "metadata": {
    "id": "a03450ac"
   },
   "outputs": [
    {
     "ename": "ModuleNotFoundError",
     "evalue": "No module named 'numpy'",
     "output_type": "error",
     "traceback": [
      "\u001b[0;31m---------------------------------------------------------------------------\u001b[0m",
      "\u001b[0;31mModuleNotFoundError\u001b[0m                       Traceback (most recent call last)",
      "Input \u001b[0;32mIn [1]\u001b[0m, in \u001b[0;36m<cell line: 1>\u001b[0;34m()\u001b[0m\n\u001b[0;32m----> 1\u001b[0m \u001b[38;5;28;01mimport\u001b[39;00m \u001b[38;5;21;01mnumpy\u001b[39;00m \u001b[38;5;28;01mas\u001b[39;00m \u001b[38;5;21;01mnp\u001b[39;00m\n\u001b[1;32m      2\u001b[0m \u001b[38;5;28;01mimport\u001b[39;00m \u001b[38;5;21;01mos\u001b[39;00m\n\u001b[1;32m      3\u001b[0m \u001b[38;5;28;01mimport\u001b[39;00m \u001b[38;5;21;01mmath\u001b[39;00m\n",
      "\u001b[0;31mModuleNotFoundError\u001b[0m: No module named 'numpy'"
     ]
    }
   ],
   "source": [
    "import numpy as np\n",
    "import os\n",
    "import math\n",
    "import pandas as pd\n",
    "import re\n",
    "import nltk\n",
    "from nltk.corpus import stopwords\n",
    "from nltk.stem import PorterStemmer\n",
    "from nltk.tokenize import word_tokenize\n",
    "from nltk.stem import WordNetLemmatizer\n",
    "nltk.download('wordnet')\n",
    "nltk.download('omw-1.4')\n",
    "import warnings\n",
    "import pickle\n",
    "import seaborn as sns\n",
    "from sklearn.metrics import confusion_matrix, ConfusionMatrixDisplay \n",
    "import matplotlib.pyplot as plt\n",
    "warnings.filterwarnings(\"ignore\")\n",
    "import string\n"
   ]
  },
  {
   "cell_type": "markdown",
   "id": "fc584cc2",
   "metadata": {
    "id": "fc584cc2"
   },
   "source": [
    "## Reading the data\n",
    "\n",
    "When reading the data, ensure that the '.csv' file is in the same location where your jupyter notebook is used. This way the files are organized and easy to read using the pandas library. "
   ]
  },
  {
   "cell_type": "code",
   "execution_count": 124,
   "id": "3c9ffbf5",
   "metadata": {
    "id": "3c9ffbf5"
   },
   "outputs": [],
   "source": [
    "## Reading the data and removing columns that are not important. \n",
    "df = pd.read_csv(\"movie_reviews-1.csv\", sep = ',', encoding = 'latin-1', usecols = lambda col: col not in [\"Unnamed: 2\", \"Unnamed: 3\", \"Unnamed: 4\"])"
   ]
  },
  {
   "cell_type": "code",
   "execution_count": 125,
   "id": "90ab14fe",
   "metadata": {},
   "outputs": [
    {
     "data": {
      "text/plain": [
       "Index(['review', 'sentiment'], dtype='object')"
      ]
     },
     "execution_count": 125,
     "metadata": {},
     "output_type": "execute_result"
    }
   ],
   "source": [
    "df.columns"
   ]
  },
  {
   "cell_type": "code",
   "execution_count": 126,
   "id": "f7fa8ac0",
   "metadata": {
    "colab": {
     "base_uri": "https://localhost:8080/",
     "height": 206
    },
    "id": "f7fa8ac0",
    "outputId": "69edaf28-1e2e-4ec7-9530-b30a2853ab9e",
    "scrolled": true
   },
   "outputs": [],
   "source": [
    "None  # print head of data frame with help of head function"
   ]
  },
  {
   "cell_type": "code",
   "execution_count": 127,
   "id": "c0dd61ce",
   "metadata": {},
   "outputs": [
    {
     "data": {
      "text/html": [
       "<div>\n",
       "<style scoped>\n",
       "    .dataframe tbody tr th:only-of-type {\n",
       "        vertical-align: middle;\n",
       "    }\n",
       "\n",
       "    .dataframe tbody tr th {\n",
       "        vertical-align: top;\n",
       "    }\n",
       "\n",
       "    .dataframe thead th {\n",
       "        text-align: right;\n",
       "    }\n",
       "</style>\n",
       "<table border=\"1\" class=\"dataframe\">\n",
       "  <thead>\n",
       "    <tr style=\"text-align: right;\">\n",
       "      <th></th>\n",
       "      <th>review</th>\n",
       "      <th>sentiment</th>\n",
       "    </tr>\n",
       "  </thead>\n",
       "  <tbody>\n",
       "    <tr>\n",
       "      <th>0</th>\n",
       "      <td>One of the other reviewers has mentioned that ...</td>\n",
       "      <td>positive</td>\n",
       "    </tr>\n",
       "    <tr>\n",
       "      <th>1</th>\n",
       "      <td>A wonderful little production. &lt;br /&gt;&lt;br /&gt;The...</td>\n",
       "      <td>positive</td>\n",
       "    </tr>\n",
       "    <tr>\n",
       "      <th>2</th>\n",
       "      <td>I thought this was a wonderful way to spend ti...</td>\n",
       "      <td>positive</td>\n",
       "    </tr>\n",
       "    <tr>\n",
       "      <th>3</th>\n",
       "      <td>Petter Mattei's \"Love in the Time of Money\" is...</td>\n",
       "      <td>positive</td>\n",
       "    </tr>\n",
       "    <tr>\n",
       "      <th>4</th>\n",
       "      <td>Probably my all-time favorite movie, a story o...</td>\n",
       "      <td>positive</td>\n",
       "    </tr>\n",
       "    <tr>\n",
       "      <th>5</th>\n",
       "      <td>I sure would like to see a resurrection of a u...</td>\n",
       "      <td>positive</td>\n",
       "    </tr>\n",
       "    <tr>\n",
       "      <th>6</th>\n",
       "      <td>If you like original gut wrenching laughter yo...</td>\n",
       "      <td>positive</td>\n",
       "    </tr>\n",
       "    <tr>\n",
       "      <th>7</th>\n",
       "      <td>This a fantastic movie of three prisoners who ...</td>\n",
       "      <td>positive</td>\n",
       "    </tr>\n",
       "    <tr>\n",
       "      <th>8</th>\n",
       "      <td>Some films just simply should not be remade. T...</td>\n",
       "      <td>positive</td>\n",
       "    </tr>\n",
       "    <tr>\n",
       "      <th>9</th>\n",
       "      <td>I remember this film,it was the first film i h...</td>\n",
       "      <td>positive</td>\n",
       "    </tr>\n",
       "    <tr>\n",
       "      <th>10</th>\n",
       "      <td>After the success of Die Hard and it's sequels...</td>\n",
       "      <td>positive</td>\n",
       "    </tr>\n",
       "    <tr>\n",
       "      <th>11</th>\n",
       "      <td>What an absolutely stunning movie, if you have...</td>\n",
       "      <td>positive</td>\n",
       "    </tr>\n",
       "    <tr>\n",
       "      <th>12</th>\n",
       "      <td>The Karen Carpenter Story shows a little more ...</td>\n",
       "      <td>positive</td>\n",
       "    </tr>\n",
       "    <tr>\n",
       "      <th>13</th>\n",
       "      <td>\"The Cell\" is an exotic masterpiece, a dizzyin...</td>\n",
       "      <td>positive</td>\n",
       "    </tr>\n",
       "    <tr>\n",
       "      <th>14</th>\n",
       "      <td>'War movie' is a Hollywood genre that has been...</td>\n",
       "      <td>positive</td>\n",
       "    </tr>\n",
       "  </tbody>\n",
       "</table>\n",
       "</div>"
      ],
      "text/plain": [
       "                                               review sentiment\n",
       "0   One of the other reviewers has mentioned that ...  positive\n",
       "1   A wonderful little production. <br /><br />The...  positive\n",
       "2   I thought this was a wonderful way to spend ti...  positive\n",
       "3   Petter Mattei's \"Love in the Time of Money\" is...  positive\n",
       "4   Probably my all-time favorite movie, a story o...  positive\n",
       "5   I sure would like to see a resurrection of a u...  positive\n",
       "6   If you like original gut wrenching laughter yo...  positive\n",
       "7   This a fantastic movie of three prisoners who ...  positive\n",
       "8   Some films just simply should not be remade. T...  positive\n",
       "9   I remember this film,it was the first film i h...  positive\n",
       "10  After the success of Die Hard and it's sequels...  positive\n",
       "11  What an absolutely stunning movie, if you have...  positive\n",
       "12  The Karen Carpenter Story shows a little more ...  positive\n",
       "13  \"The Cell\" is an exotic masterpiece, a dizzyin...  positive\n",
       "14  'War movie' is a Hollywood genre that has been...  positive"
      ]
     },
     "execution_count": 127,
     "metadata": {},
     "output_type": "execute_result"
    }
   ],
   "source": [
    "df.head(15)"
   ]
  },
  {
   "cell_type": "markdown",
   "id": "1749da04",
   "metadata": {
    "id": "1749da04"
   },
   "source": [
    "## Count plot of the output categories: positive or negative\n",
    "\n",
    "Feel free to take a look at the output and whether the classes are balanced or imbalanced. "
   ]
  },
  {
   "cell_type": "code",
   "execution_count": 128,
   "id": "c152e8a4",
   "metadata": {
    "colab": {
     "base_uri": "https://localhost:8080/",
     "height": 515
    },
    "id": "c152e8a4",
    "outputId": "a2ba0476-3238-4511-fcf0-780508493f48"
   },
   "outputs": [
    {
     "data": {
      "image/png": "[encoded data removed]",
      "text/plain": [
       "<Figure size 432x288 with 1 Axes>"
      ]
     },
     "metadata": {
      "needs_background": "light"
     },
     "output_type": "display_data"
    }
   ],
   "source": [
    "plt.figure(figsize = None)\n",
    "sns.countplot(x ='sentiment',data=df)\n",
    "plt.title(\"Positive Vs. Negative reviews count\", fontsize = 15)\n",
    "plt.show()\n"
   ]
  },
  {
   "cell_type": "markdown",
   "id": "9b8549f2",
   "metadata": {
    "id": "9b8549f2"
   },
   "source": [
    "## Upsampling the minority class: (5 points)\n",
    "\n",
    "It is known that Naive bayes is not robust to class imbalance. It could be seen above that the data is little imbalanced. Therefore, class balancing can be done before giving it to the Naive Bayes model for prediction. \n",
    "\n",
    "Feel free to use 'resample' library from sklearn. "
   ]
  },
  {
   "cell_type": "code",
   "execution_count": 129,
   "id": "yHJTAqrW7XMN",
   "metadata": {
    "id": "yHJTAqrW7XMN"
   },
   "outputs": [],
   "source": [
    "## hint: use resample from sklearn.utils\n",
    "from sklearn.utils import resample\n",
    "\n",
    "df_majority = df[df[\"sentiment\"] == \"positive\"]\n",
    "df_minority = df[df[\"sentiment\"] == \"negative\"]\n",
    "\n",
    "negative_upsample = resample(df_minority, replace = True, \n",
    "                        n_samples = df_majority.shape[0],\n",
    "                        random_state = 101)\n",
    "\n",
    "df_upsampled = pd.concat([df_majority, negative_upsample])  # concat two data frames i,e majority class data set and upsampled minority class data set\n",
    "df_upsampled = df_upsampled.sample(frac = 1)"
   ]
  },
  {
   "cell_type": "code",
   "execution_count": 130,
   "id": "6a9329bb",
   "metadata": {
    "id": "6a9329bb"
   },
   "outputs": [
    {
     "data": {
      "text/plain": [
       "(12474, 2)"
      ]
     },
     "execution_count": 130,
     "metadata": {},
     "output_type": "execute_result"
    }
   ],
   "source": [
    "## Just to ensure that upsampling was done successfully, take a look at the shape of the data in \n",
    "## this cell. \n",
    "\n",
    "# print the shape of data set with the help of shape function having \"negative\" as class label\n",
    "df_upsampled[df_upsampled[\"sentiment\"] == \"negative\"].shape"
   ]
  },
  {
   "cell_type": "markdown",
   "id": "6f8bf6e7",
   "metadata": {
    "id": "6f8bf6e7",
    "tags": []
   },
   "source": [
    "### Expected Output : \n",
    "(12474, 2)"
   ]
  },
  {
   "cell_type": "code",
   "execution_count": 131,
   "id": "bdea8155",
   "metadata": {
    "colab": {
     "base_uri": "https://localhost:8080/"
    },
    "id": "bdea8155",
    "outputId": "c665c4b9-826e-4f4e-e30e-06e0935a0622"
   },
   "outputs": [
    {
     "data": {
      "text/plain": [
       "(12474, 2)"
      ]
     },
     "execution_count": 131,
     "metadata": {},
     "output_type": "execute_result"
    }
   ],
   "source": [
    "## Ensure that the same number of data points are present for both 'positive' and 'negative' data\n",
    "\n",
    "# print the shape of data set with the help of shape function having \"positive\" as class label\n",
    "df_upsampled[df_upsampled[\"sentiment\"] == \"positive\"].shape"
   ]
  },
  {
   "cell_type": "markdown",
   "id": "626f01d5",
   "metadata": {
    "id": "626f01d5"
   },
   "source": [
    "### Expected Output : \n",
    "(12474, 2)"
   ]
  },
  {
   "cell_type": "code",
   "execution_count": 132,
   "id": "NoW5z6SzAeP8",
   "metadata": {
    "id": "NoW5z6SzAeP8"
   },
   "outputs": [],
   "source": [
    "## In this cell, we are going to be dividing the data into train and test points\n",
    "## Ensure that you store the upsampled data in a variable called 'df_upsampled' \n",
    "## so that the below operations are performed successfully\n",
    "\n",
    "\n",
    "## Considering 10000 positive and 10000 negative data points\n",
    "negative_data_points_train = df_upsampled[df_upsampled[\"sentiment\"] == \"negative\"].iloc[:10000]\n",
    "positive_data_points_train = df_upsampled[df_upsampled[\"sentiment\"] == \"positive\"].iloc[:10000]\n",
    "\n",
    "## Considering the remaining data points for test\n",
    "negative_data_points_test = df_upsampled[df_upsampled[\"sentiment\"] == \"negative\"].iloc[10000:]\n",
    "positive_data_points_test = df_upsampled[df_upsampled[\"sentiment\"] == \"positive\"].iloc[10000:]\n",
    "\n",
    "## Concatenate the training positive and negative reviews\n",
    "X_train = pd.concat([positive_data_points_train[\"review\"], negative_data_points_train[\"review\"]])\n",
    "## Concatenating the training positive and negative outputs\n",
    "y_train = pd.concat([positive_data_points_train[\"sentiment\"], negative_data_points_train[\"sentiment\"]])\n",
    "\n",
    "## Concatenating the test positive and negative reviews\n",
    "X_test = pd.concat([positive_data_points_test[\"review\"], negative_data_points_test[\"review\"]])\n",
    "## Concatenating the test positive and negative outputs\n",
    "y_test = pd.concat([positive_data_points_test[\"sentiment\"], negative_data_points_test[\"sentiment\"]])\n"
   ]
  },
  {
   "cell_type": "code",
   "execution_count": 133,
   "id": "6428047d",
   "metadata": {
    "colab": {
     "base_uri": "https://localhost:8080/"
    },
    "id": "6428047d",
    "outputId": "10d10601-0ce0-4688-c4d3-75fa386583fd"
   },
   "outputs": [
    {
     "data": {
      "text/plain": [
       "positive    10000\n",
       "negative    10000\n",
       "Name: sentiment, dtype: int64"
      ]
     },
     "execution_count": 133,
     "metadata": {},
     "output_type": "execute_result"
    }
   ],
   "source": [
    "## Take a look at the total number of classes and their count using '.value_counts()' for y_train and y_test.\n",
    "## Ensure that there are equal number of positive and negative reviews. \n",
    "y_train.value_counts()"
   ]
  },
  {
   "cell_type": "markdown",
   "id": "7dfe6517",
   "metadata": {
    "id": "7dfe6517"
   },
   "source": [
    "### Expected Output:\n",
    "negative    10000<br>\n",
    "positive    10000<br>\n",
    "Name: sentiment, dtype: int64"
   ]
  },
  {
   "cell_type": "code",
   "execution_count": 134,
   "id": "2beae1d6",
   "metadata": {
    "colab": {
     "base_uri": "https://localhost:8080/"
    },
    "id": "2beae1d6",
    "outputId": "6896f930-6a1a-45db-b74c-d080c9aedd0c"
   },
   "outputs": [
    {
     "data": {
      "text/plain": [
       "positive    2474\n",
       "negative    2474\n",
       "Name: sentiment, dtype: int64"
      ]
     },
     "execution_count": 134,
     "metadata": {},
     "output_type": "execute_result"
    }
   ],
   "source": [
    "y_test.value_counts()"
   ]
  },
  {
   "cell_type": "markdown",
   "id": "9163f897",
   "metadata": {
    "id": "9163f897"
   },
   "source": [
    "### Expected Output : \n",
    "negative    2474<br>\n",
    "positive    2474<br>\n",
    "Name: sentiment, dtype: int64"
   ]
  },
  {
   "cell_type": "markdown",
   "id": "6501699b",
   "metadata": {
    "id": "6501699b"
   },
   "source": [
    "## Q1. Pre-process the reviews: (10 points)\n",
    "\n",
    "We know that a review contains links, punctuation, stopwords and many other words that don't give a lot of meaning for the Naive Bayes model for prediction. \n",
    "\n",
    "In the cell below, one must implement text-preprocessing and remove links, punctuations and stopwords. It is also important to lowercase the letters so that 'Admire' and 'admire' are not treated as different words. \n",
    "\n",
    "In addition to this, perform stemming operation so that similar words are reduced. To know more about stemming, feel free to take a look at this link.\n",
    "\n",
    "https://nlp.stanford.edu/IR-book/html/htmledition/stemming-and-lemmatization-1.html"
   ]
  },
  {
   "cell_type": "code",
   "execution_count": 135,
   "id": "CirLN9-ddQ1r",
   "metadata": {
    "id": "CirLN9-ddQ1r"
   },
   "outputs": [],
   "source": [
    "# TASK CELL\n",
    "\n",
    "def clean_review(review):\n",
    "    review_woStopWords = []\n",
    "    lemm_review = []\n",
    "    \n",
    "    #Removing URLs\n",
    "    review = re.sub(r\"http\\S+\", \"\", review)\n",
    "    \n",
    "    #storing the puntuation free text\n",
    "    for i in review:\n",
    "        if i in string.punctuation:\n",
    "            review = review.replace(i, \"\")\n",
    "    \n",
    "    #Converting text to lowercase\n",
    "    review = review.lower()\n",
    "    \n",
    "    #Tokenizing\n",
    "    review = re.split(r'\\W+',review)\n",
    "    \n",
    "    #Stopwords\n",
    "    for i in review:\n",
    "        if i not in stopwords.words('english'):\n",
    "            review_woStopWords.append(i)\n",
    "            \n",
    "    #Stemming\n",
    "    #porter_stemmer = PorterStemmer()\n",
    "    #stem_review = [porter_stemmer.stem(word) for word in review_woStopWords]\n",
    "    \n",
    "    #Lemmatization\n",
    "    wordnet_lemmatizer = WordNetLemmatizer()\n",
    "    lemm_review = [wordnet_lemmatizer.lemmatize(i) for i in review_woStopWords]\n",
    "    \n",
    "    #print(lemm_review)\n",
    "    \n",
    "    return \" \".join(lemm_review)"
   ]
  },
  {
   "cell_type": "markdown",
   "id": "a7632fe5",
   "metadata": {
    "id": "a7632fe5"
   },
   "source": [
    "## Q2. Implement a find_occurrence function (5 points):\n",
    "\n",
    "In this function, we find the total occurrence of a word giving information such as label, word and frequency dictionary.\n",
    "\n",
    "Note that this function is used later in the code when we are going to be predicting the output using Naive Bayes. "
   ]
  },
  {
   "cell_type": "code",
   "execution_count": 139,
   "id": "eb282b81",
   "metadata": {
    "id": "eb282b81"
   },
   "outputs": [],
   "source": [
    "# TASK CELL\n",
    "def find_occurrence(frequency, word, label):\n",
    "    '''\n",
    "    Params:\n",
    "        frequency: a dictionary with the frequency of each pair (or tuple)\n",
    "        word: the word to look up\n",
    "        label: the label corresponding to the word\n",
    "    Return:\n",
    "        n: the number of times the word with its corresponding label appears.\n",
    "    '''\n",
    "    #n =0\n",
    "    \n",
    "    if (word, label) in frequency:\n",
    "        n = frequency[(word, label)]\n",
    "    else: \n",
    "        n =0\n",
    "  \n",
    "    return n"
   ]
  },
  {
   "cell_type": "markdown",
   "id": "29a2249d",
   "metadata": {
    "id": "29a2249d"
   },
   "source": [
    "### Converting output to numerical format:\n",
    "\n",
    "We have outputs as 'positive' or 'negative'. In the cell below, we convert it to a numerical format. "
   ]
  },
  {
   "cell_type": "code",
   "execution_count": 141,
   "id": "bcdc2b2c",
   "metadata": {
    "id": "bcdc2b2c"
   },
   "outputs": [],
   "source": [
    "## With the use of mapping function, we replace\n",
    "## the label in the form of string to an integer. \n",
    "\n",
    "output_map = {'positive': 0, 'negative': 1}\n",
    "y_train = y_train.map(output_map)\n",
    "y_test = y_test.map(output_map)"
   ]
  },
  {
   "cell_type": "code",
   "execution_count": 142,
   "id": "3dde0bbd",
   "metadata": {
    "colab": {
     "base_uri": "https://localhost:8080/"
    },
    "id": "3dde0bbd",
    "outputId": "223dfbc1-8efe-4183-b6d7-c9cb025cb285"
   },
   "outputs": [
    {
     "data": {
      "text/plain": [
       "0    10000\n",
       "1    10000\n",
       "Name: sentiment, dtype: int64"
      ]
     },
     "execution_count": 142,
     "metadata": {},
     "output_type": "execute_result"
    }
   ],
   "source": [
    "## Ensuring that there are equal number of classes on the training data. \n",
    "y_train.value_counts()"
   ]
  },
  {
   "cell_type": "code",
   "execution_count": 143,
   "id": "f2959b85",
   "metadata": {
    "colab": {
     "base_uri": "https://localhost:8080/",
     "height": 178
    },
    "id": "f2959b85",
    "outputId": "e514214b-cd57-43fc-875d-1821ddab63f8"
   },
   "outputs": [
    {
     "data": {
      "text/plain": [
       "'A fine Martino outing, this is a spirited and enjoyable giallo with fine performances from good looking cast and principally the two leads, George Hilton and Anita Strindberg.<br /><br />For me the jig-saw puzzle of a plot is so convoluted and confusing you just sit back and enjoy rather than try to anticipate. Just when all seems resolved we are again taken on a further series of twists, enjoyable twists, it has to be said.<br /><br />Sexy with plenty of gory kills this a well paced movie with London, Athens and Greek coastal locations. A super finale set upon Aegean rocks wraps things up and much fun was had by all.'"
      ]
     },
     "execution_count": 143,
     "metadata": {},
     "output_type": "execute_result"
    }
   ],
   "source": [
    "## Choosing a random review and taking a look at it.\n",
    "X_train.iloc[0]"
   ]
  },
  {
   "cell_type": "markdown",
   "id": "ed5e43c9",
   "metadata": {
    "id": "ed5e43c9"
   },
   "source": [
    "From the above cell output, it could be seen that there are a lot of words that don't add a lot of meaning to the text. \n",
    "\n",
    "Therefore, those words would be removed. It also reduces the computation time. \n",
    "\n",
    "Therefore, it is a good practice we are following."
   ]
  },
  {
   "cell_type": "code",
   "execution_count": 144,
   "id": "ad3937ea",
   "metadata": {
    "colab": {
     "base_uri": "https://localhost:8080/"
    },
    "id": "ad3937ea",
    "outputId": "68985efe-32cd-4c11-ed5b-2e1e1b297e73"
   },
   "outputs": [
    {
     "name": "stdout",
     "output_type": "stream",
     "text": [
      "fine martino outing spirited enjoyable giallo fine performance good looking cast principally two lead george hilton anita strindbergbr br jigsaw puzzle plot convoluted confusing sit back enjoy rather try anticipate seems resolved taken series twist enjoyable twist saidbr br sexy plenty gory kill well paced movie london athens greek coastal location super finale set upon aegean rock wrap thing much fun\n"
     ]
    }
   ],
   "source": [
    "custom_review = X_train.iloc[0]\n",
    "\n",
    "# print cleaned review\n",
    "print(clean_review(custom_review))"
   ]
  },
  {
   "cell_type": "markdown",
   "id": "3e6cc440",
   "metadata": {
    "id": "3e6cc440"
   },
   "source": [
    "We now use this function to pre-process the review and remove words that don't add a lot of meaning in our model. "
   ]
  },
  {
   "cell_type": "markdown",
   "id": "5a762960",
   "metadata": {
    "id": "5a762960"
   },
   "source": [
    "## Q3. Implementing review counter function: (5 points)\n",
    "\n",
    "It is now time to implement the count function for the reviews. \n",
    "\n",
    "In this function, we count the occurrence of words and get the probabilities \n",
    "for the words based on the training data. \n",
    "\n",
    "In other words, we get the probability of occurrence of a word, given that the output is 'positive'.\n",
    "\n",
    "Similarly, we also compute the probability of occurence of a word, given that the output is 'negative'.\n",
    "\n"
   ]
  },
  {
   "cell_type": "code",
   "execution_count": 145,
   "id": "5de61f77",
   "metadata": {
    "id": "5de61f77"
   },
   "outputs": [],
   "source": [
    "# TASK CELL\n",
    "def review_counter(output_occurrence, reviews, positive_or_negative):\n",
    "    '''\n",
    "    Params:\n",
    "        output_occurrence: a dictionary that will be used to map each pair to its frequency\n",
    "        reviews: a list of reviews\n",
    "        positive_or_negative: a list corresponding to the sentiment of each review (either 0 or 1)\n",
    "    Return:\n",
    "        output: a dictionary mapping each pair to its frequency\n",
    "    '''\n",
    "    ## Steps :\n",
    "    # define the key, which is the word and label tuple\n",
    "    # if the key exists in the dictionary, increment the count\n",
    "    # else, if the key is new, add it to the dictionary and set the count to 1\n",
    "    \n",
    "    for label, review in zip(positive_or_negative, reviews):\n",
    "        split_review = clean_review(review).split()\n",
    "        \n",
    "        for word in split_review:\n",
    "            key = (word, label)\n",
    "            #print(key)\n",
    "            \n",
    "            if key in output_occurrence:\n",
    "                output_occurrence[key] +=1\n",
    "            else:\n",
    "                output_occurrence[key]=1\n",
    "        \n",
    "    return output_occurrence\n",
    "   \n"
   ]
  },
  {
   "cell_type": "markdown",
   "id": "18238223",
   "metadata": {
    "id": "18238223"
   },
   "source": [
    "### Test your function with example reviews:\n",
    "\n",
    "Feel free to run the cell below and understand whether the above function that you have defined is producing the optimum results. "
   ]
  },
  {
   "cell_type": "code",
   "execution_count": 146,
   "id": "07a4c58a",
   "metadata": {
    "colab": {
     "base_uri": "https://localhost:8080/"
    },
    "id": "07a4c58a",
    "outputId": "dd9e148a-34a9-4cfe-9077-c5de33493d7a"
   },
   "outputs": [
    {
     "data": {
      "text/plain": [
       "{('got', 1): 1,\n",
       " ('bored', 1): 2,\n",
       " ('throught', 1): 1,\n",
       " ('moview', 1): 1,\n",
       " ('movie', 0): 2,\n",
       " ('fantastic', 0): 1,\n",
       " ('watch', 1): 1,\n",
       " ('complete', 1): 1,\n",
       " ('waste', 1): 1,\n",
       " ('time', 1): 1,\n",
       " ('money', 1): 1,\n",
       " ('enjoyed', 0): 1,\n",
       " ('fullest', 0): 1}"
      ]
     },
     "execution_count": 146,
     "metadata": {},
     "output_type": "execute_result"
    }
   ],
   "source": [
    "# Testing your function\n",
    "\n",
    "result = {}\n",
    "reviews = ['got bored throught the moview', 'The movie was fantastic', 'Will not watch it again', 'Was bored, it was a complete waste of time and money', 'Enjoyed the movie to the fullest']\n",
    "ys = [1, 0, 1, 1, 0]\n",
    "review_counter(result,reviews, ys)"
   ]
  },
  {
   "cell_type": "markdown",
   "id": "927f89bb",
   "metadata": {
    "id": "927f89bb"
   },
   "source": [
    "### Expected Output:\n",
    " {('bored', 1): 2, <br>\n",
    " ('complete', 1): 1, <br>\n",
    " ('enjoyed', 0): 1, <br>\n",
    " ('fantastic', 0): 1, <br>\n",
    " ('fullest', 0): 1, <br>\n",
    " ('got', 1): 1, <br>\n",
    " ('money', 1): 1, <br>\n",
    " ('movie', 0): 2, <br>\n",
    " ('moview', 1): 1, <br>\n",
    " ('throught', 1): 1, <br>\n",
    " ('time', 1): 1, <br>\n",
    " ('waste', 1): 1, <br>\n",
    " ('watch', 1): 1}"
   ]
  },
  {
   "cell_type": "code",
   "execution_count": 147,
   "id": "9bc62e13",
   "metadata": {
    "id": "9bc62e13"
   },
   "outputs": [],
   "source": [
    "# Build the freqs dictionary for later uses\n",
    "\n",
    "freqs = review_counter({}, X_train, y_train)"
   ]
  },
  {
   "cell_type": "code",
   "execution_count": null,
   "id": "0eddf420",
   "metadata": {
    "id": "0eddf420",
    "tags": []
   },
   "outputs": [],
   "source": [
    "## Run this cell to get an idea about the corpus of words and their occurrence along with labels. \n",
    "## In this, we are computing the frequency of occurrence of word given that a review is 'positive'.\n",
    "## Similarly, we also compute the frequence of occurence of word given that a review is 'negative'.\n",
    "freqs"
   ]
  },
  {
   "cell_type": "markdown",
   "id": "759c24bc",
   "metadata": {
    "id": "759c24bc",
    "tags": []
   },
   "source": [
    "## Q4. Training the Naive Bayes Model: (20 points)\n",
    "\n",
    "Now we are in the training phase of the Naive Bayes algorithm. In this cell, take a look at the ways to calculate the log likelihood and log prior values as these are important for testing in the next few cells. \n",
    "\n",
    "Also calculate the frequency of occurrence of words where the output is negative. In the same way, calculate the word frequency count using the above functions in order to compute the log likelihood.\n",
    "\n",
    "Return the logprior and loglikelihood output by the model from this function. "
   ]
  },
  {
   "cell_type": "code",
   "execution_count": 149,
   "id": "a7f280e3",
   "metadata": {
    "id": "a7f280e3"
   },
   "outputs": [],
   "source": [
    "def train_naive_bayes(freqs, train_x, train_y):\n",
    "    '''\n",
    "    Input:\n",
    "        freqs: dictionary from (word, label) to how often the word appears\n",
    "        train_x: a list of reviews\n",
    "        train_y: a list of labels correponding to the reviews (0,1)\n",
    "    Output:\n",
    "        logprior: the log prior. (equation 3 above)\n",
    "        loglikelihood: the log likelihood of you Naive bayes equation. (equation 6 above)\n",
    "    '''\n",
    "    loglikelihood = {}\n",
    "    logprior = 0\n",
    "\n",
    "\n",
    "    # calculate V, the number of unique words in the vocabulary\n",
    "    vocab = set([pair[0] for pair in freqs.keys()])\n",
    "    V = len(vocab)\n",
    "    #print(vocab)\n",
    "    #print(V)\n",
    "\n",
    "    # calculate num_pos and num_neg - the total number of positive and negative words for all documents\n",
    "    num_pos = num_neg = 0\n",
    "    #print(frequency_dict)\n",
    "    #for pair in frequency_dict.keys():\n",
    "    for pair in freqs.keys():\n",
    "        # if the label is positive (greater than zero)\n",
    "        if pair[1] == 0:\n",
    "            #print(pair)\n",
    "            # Increment the number of positive words by the count for this (word, label) pair\n",
    "            num_pos += freqs[pair]\n",
    "\n",
    "        # else, the label is negative\n",
    "        else:\n",
    "\n",
    "            # increment the number of negative words by the count for this (word,label) pair\n",
    "            num_neg += freqs[pair]\n",
    "\n",
    "    # Calculate num_doc, the number of documents\n",
    "    num_doc = len(train_y)\n",
    "\n",
    "    # Calculate D_pos, the number of positive documents \n",
    "    pos_num_docs = sum(train_y == 0 )\n",
    "\n",
    "    # Calculate D_neg, the number of negative documents \n",
    "    neg_num_docs = num_doc - pos_num_docs\n",
    "\n",
    "    # Calculate logprior\n",
    "    logprior = np.log(neg_num_docs) - np.log(pos_num_docs)\n",
    "\n",
    "    # For each word in the vocabulary...\n",
    "    for word in vocab:\n",
    "        # get the positive and negative frequency of the word\n",
    "        freq_pos = find_occurrence(freqs, word, 0)\n",
    "        freq_neg = find_occurrence(freqs, word, 1)\n",
    "\n",
    "        # calculate the probability that each word is positive, and negative\n",
    "        p_w_pos = (freq_pos + 1)/(num_pos + V)\n",
    "        p_w_neg = (freq_neg + 1)/(num_neg + V)\n",
    "\n",
    "        # calculate the log likelihood of the word\n",
    "        loglikelihood[word] = np.log(p_w_neg) - np.log(p_w_pos)\n",
    "\n",
    "\n",
    "    return logprior, loglikelihood"
   ]
  },
  {
   "cell_type": "code",
   "execution_count": 150,
   "id": "1561d892",
   "metadata": {
    "id": "1561d892"
   },
   "outputs": [
    {
     "name": "stdout",
     "output_type": "stream",
     "text": [
      "0.0\n",
      "91643\n"
     ]
    }
   ],
   "source": [
    "# You do not have to input any code in this cell, but it is relevant to grading, so please do not change anything\n",
    "logprior, loglikelihood = train_naive_bayes(freqs, X_train, y_train)\n",
    "print(logprior)\n",
    "print(len(loglikelihood))"
   ]
  },
  {
   "cell_type": "markdown",
   "id": "19d9c882",
   "metadata": {
    "id": "19d9c882"
   },
   "source": [
    "### Expected Output \n",
    "\n",
    "0.0 <br>\n",
    "91425"
   ]
  },
  {
   "cell_type": "markdown",
   "id": "78b51303",
   "metadata": {
    "id": "78b51303"
   },
   "source": [
    "## Q5. Implementing Naive Bayes Predict Function: (10 points)\n",
    "\n",
    "It is now time to make our prediction as to whether a given review is negative or positive respectively. \n",
    "\n",
    "After adding the log likelihood values, ensure that the output is 1 (negative) if the sum of the log likelihood value is greater than 0 and 0 (positive) if the sum of the log likelihood is less than or equal to 0. "
   ]
  },
  {
   "cell_type": "code",
   "execution_count": 151,
   "id": "b692c2f9",
   "metadata": {
    "id": "b692c2f9"
   },
   "outputs": [],
   "source": [
    "# TASK 4 CELL\n",
    "\n",
    "def naive_bayes_predict(review, logprior, loglikelihood):\n",
    "    '''\n",
    "    Params:\n",
    "        review: a string\n",
    "        logprior: a number\n",
    "        loglikelihood: a dictionary of words mapping to numbers\n",
    "    Return:\n",
    "        total_prob: the sum of all the loglikelihoods of each word in the review (if found in the dictionary) + logprior (a number)\n",
    "\n",
    "    '''\n",
    "    \n",
    "      # process the review to get a list of words\n",
    "    word_l = clean_review(review).split()\n",
    "\n",
    "    # initialize probability to zero\n",
    "    total_prob = 0\n",
    "\n",
    "    # add the logprior\n",
    "    total_prob += logprior\n",
    "\n",
    "    for word in word_l:\n",
    "\n",
    "        # check if the word exists in the loglikelihood dictionary\n",
    "        if word in loglikelihood:\n",
    "            # add the log likelihood of that word to the probability\n",
    "            total_prob += loglikelihood[word]\n",
    "            \n",
    "    if total_prob > 0:\n",
    "        return 1\n",
    "    else: \n",
    "        return 0"
   ]
  },
  {
   "cell_type": "code",
   "execution_count": 152,
   "id": "4b170333",
   "metadata": {
    "colab": {
     "base_uri": "https://localhost:8080/"
    },
    "id": "4b170333",
    "outputId": "0cf6bc90-90e8-4dee-bf95-7eaf39dce147"
   },
   "outputs": [
    {
     "name": "stdout",
     "output_type": "stream",
     "text": [
      "The expected output is 1\n"
     ]
    }
   ],
   "source": [
    "# You do not have to input any code in this cell, but it is relevant to grading, so please do not change anything\n",
    "\n",
    "# Experiment with your own review.\n",
    "my_review = \"I thought this series was going to be another fun, action series with some dynamic plots and great performances. I was wrong. While I like Jamie Denton, this show is hardly worth watching at all, unless you enjoy watching some people brutalized and the actions of the agents supposedly warranted under the theme of national security. The show is great propaganda for the current government, and spews out jingoism as though we talk that way every day. After a couple of episodes, it was boring the hell out of me, and I started watching reruns of House Invaders on BBCAmerica instead. Rather watch CSI and Without a Trace, without a doubt.\"\n",
    "p = naive_bayes_predict(my_review, logprior, loglikelihood)\n",
    "print('The expected output is', p)"
   ]
  },
  {
   "cell_type": "markdown",
   "id": "6242708f",
   "metadata": {
    "id": "6242708f"
   },
   "source": [
    "### Expected Output :\n",
    "The expected output is 1"
   ]
  },
  {
   "cell_type": "markdown",
   "id": "7c4eeb71",
   "metadata": {
    "id": "7c4eeb71"
   },
   "source": [
    "## Q6. Implementing Naive Bayes Test function: (10 points)\n",
    "\n",
    "In this function, implement the previous functions such as naive_bayes_predict to get the predictions for the test set. \n",
    "\n",
    "In addition to this, the function should return the total number of reviews that it correctly classified as 'positive' or 'negative'. "
   ]
  },
  {
   "cell_type": "code",
   "execution_count": 153,
   "id": "66a511e7",
   "metadata": {
    "id": "66a511e7"
   },
   "outputs": [],
   "source": [
    "# UNQ_C6 (UNIQUE CELL IDENTIFIER, DO NOT EDIT)\n",
    "def test_naive_bayes(test_x, test_y, logprior, loglikelihood):\n",
    "    \"\"\"\n",
    "    Input:\n",
    "        test_x: A list of reviews\n",
    "        test_y: the corresponding labels for the list of reviews\n",
    "        logprior: the logprior\n",
    "        loglikelihood: a dictionary with the loglikelihoods for each word\n",
    "    Output:\n",
    "        accuracy: (# of reviews classified correctly)/(total # of reviews)\n",
    "    \"\"\"\n",
    "    accuracy = 0  \n",
    "\n",
    "    \n",
    "    y_hats = []\n",
    "    for review in test_x:\n",
    "        # if the prediction is > 0\n",
    "        if naive_bayes_predict(review, logprior, loglikelihood) > 0:\n",
    "            # the predicted class is 1\n",
    "            y_hat_i = 1\n",
    "        else:\n",
    "            # otherwise the predicted class is 0\n",
    "            y_hat_i = 0\n",
    "\n",
    "        # append the predicted class to the list y_hats\n",
    "        y_hats.append(y_hat_i)\n",
    "\n",
    "    # error is the average of the absolute values of the differences between y_hats and test_y\n",
    "    error = sum([abs(x-y) for (x,y) in zip(y_hats,test_y)])/len(test_y)\n",
    "\n",
    "    accuracy = 1-error\n",
    "\n",
    "    print(accuracy)\n",
    "    \n",
    "    return accuracy, y_hats"
   ]
  },
  {
   "cell_type": "code",
   "execution_count": 76,
   "id": "2226c97a-c3c8-424e-9d3e-726bc58ffae1",
   "metadata": {},
   "outputs": [
    {
     "name": "stdout",
     "output_type": "stream",
     "text": [
      "0.8827809215844786\n"
     ]
    }
   ],
   "source": [
    "accuracy, predictions  = test_naive_bayes(X_test,y_test,logprior, loglikelihood)"
   ]
  },
  {
   "cell_type": "code",
   "execution_count": 154,
   "id": "8a9c5d9d",
   "metadata": {
    "id": "8a9c5d9d"
   },
   "outputs": [
    {
     "name": "stdout",
     "output_type": "stream",
     "text": [
      "If you like original gut wrenching laughter you will like this movie. If you are young or old then y -> 0.00\n",
      "What a waste of talent. A very poor, semi-coherent, script cripples this film. Rather unimaginative  -> 1.00\n",
      "I have seen this film at least 100 times and I am still excited by it, the acting is perfect and the -> 0.00\n",
      "Cheap, amateurish, unimaginative, exploitative... but don't think it'll have redeeming amusement val -> 1.00\n"
     ]
    }
   ],
   "source": [
    "# For grading purpose only\n",
    "# You do not have to input any code in this cell, but it is relevant to grading, so please do not change anything\n",
    "\n",
    "# Run this cell to test your function\n",
    "\n",
    "for review in [\"If you like original gut wrenching laughter you will like this movie. If you are young or old then you will love this movie, hell even my mom liked it.<br /><br />Great Camp!!!\",\n",
    "                \"What a waste of talent. A very poor, semi-coherent, script cripples this film. Rather unimaginative direction, too. Some VERY faint echoes of Fargo here, but it just doesn't come off.\",\n",
    "                \"I have seen this film at least 100 times and I am still excited by it, the acting is perfect and the romance between Joe and Jean keeps me on the edge of my seat, plus I still think Bryan Brown is the tops. Brilliant Film.\",\n",
    "                \"Cheap, amateurish, unimaginative, exploitative... but don't think it'll have redeeming amusement value. About as unentertaining, uninstructive and just plain dull as a film can be.\"]:\n",
    "    p = naive_bayes_predict(review, logprior, loglikelihood)\n",
    "    print(f'{review[:100]} -> {p:.2f}')\n",
    "    "
   ]
  },
  {
   "cell_type": "markdown",
   "id": "43e2ef98",
   "metadata": {
    "id": "43e2ef98"
   },
   "source": [
    "### Expected Output :\n",
    "\n",
    "If you like original gut wrenching laughter you will like this movie. If you are young or old then y -> 0.00 <br>\n",
    "What a waste of talent. A very poor, semi-coherent, script cripples this film. Rather unimaginative  -> 1.00<br>\n",
    "I have seen this film at least 100 times and I am still excited by it, the acting is perfect and the -> 0.00 <br>\n",
    "Cheap, amateurish, unimaginative, exploitative... but don't think it'll have redeeming amusement val -> 1.00\n",
    "\n"
   ]
  },
  {
   "cell_type": "code",
   "execution_count": 155,
   "id": "216fa97a",
   "metadata": {
    "colab": {
     "base_uri": "https://localhost:8080/"
    },
    "id": "216fa97a",
    "outputId": "9d1f21c7-b324-43c2-e841-269c0306cbb4"
   },
   "outputs": [
    {
     "data": {
      "text/plain": [
       "1"
      ]
     },
     "execution_count": 155,
     "metadata": {},
     "output_type": "execute_result"
    }
   ],
   "source": [
    "# Feel free to check the sentiment of your own review below\n",
    "my_review = 'The moview was very boring, I wanted to leave in the middle'\n",
    "naive_bayes_predict(my_review, logprior, loglikelihood)"
   ]
  },
  {
   "cell_type": "markdown",
   "id": "8a45e4f0",
   "metadata": {
    "id": "8a45e4f0"
   },
   "source": [
    "### Expected Output :\n",
    "1"
   ]
  },
  {
   "cell_type": "markdown",
   "id": "mAIkM4aCC1H7",
   "metadata": {
    "id": "mAIkM4aCC1H7"
   },
   "source": [
    "# Q7. Evaluate the accuracy (10 Points)\n",
    "1. Split your data into training and test sets using random selection. Set the seed as parameter of the function so that user can select a different training and test set by changin seed.\n",
    "\n",
    "2. Calculate model paramters with training set.\n",
    "\n",
    "3. Print confusion matrix for training and test set.\n",
    "\n",
    "4. Examine False Positive and False Negative cases and provide reasoning why they get misclassified."
   ]
  },
  {
   "cell_type": "code",
   "execution_count": 91,
   "id": "4ea2b492-ef92-4455-9c3c-22190a36d27f",
   "metadata": {},
   "outputs": [],
   "source": [
    "def random_accuracy_check(df_upsampled, seed):\n",
    "    \n",
    "    #df_upsampledA = df_upsampled.sample(frac = seed)\n",
    "    #df_upsampledA = pd.concat([y_test, predictions])\n",
    "    df_upsampledA = df_upsampled.sample(frac = 1, random_state = seed)\n",
    "    \n",
    "    negative_data_points_train = df_upsampledA[df_upsampledA[\"sentiment\"] == \"negative\"].iloc[:10000]\n",
    "    positive_data_points_train = df_upsampledA[df_upsampledA[\"sentiment\"] == \"positive\"].iloc[:10000]\n",
    "\n",
    "    ## Considering the remaining data points for test\n",
    "    negative_data_points_test = df_upsampledA[df_upsampledA[\"sentiment\"] == \"negative\"].iloc[10000:]\n",
    "    positive_data_points_test = df_upsampledA[df_upsampledA[\"sentiment\"] == \"positive\"].iloc[10000:]\n",
    "\n",
    "    ## Concatenate the training positive and negative reviews\n",
    "    X_train = pd.concat([positive_data_points_train[\"review\"], negative_data_points_train[\"review\"]])\n",
    "    ## Concatenating the training positive and negative outputs\n",
    "    y_train = pd.concat([positive_data_points_train[\"sentiment\"], negative_data_points_train[\"sentiment\"]])\n",
    "\n",
    "    ## Concatenating the test positive and negative reviews\n",
    "    X_test = pd.concat([positive_data_points_test[\"review\"], negative_data_points_test[\"review\"]])\n",
    "    ## Concatenating the test positive and negative outputs\n",
    "    y_test = pd.concat([positive_data_points_test[\"sentiment\"], negative_data_points_test[\"sentiment\"]])\n",
    "    \n",
    "    output_map = {'positive': 0, 'negative': 1}\n",
    "    y_train = y_train.map(output_map)\n",
    "    y_test = y_test.map(output_map)\n",
    "    \n",
    "    freqs = review_counter({}, X_train, y_train)\n",
    "    logprior, loglikelihood = train_naive_bayes(freqs, X_train, y_train)\n",
    "    accuracy, predictions  = test_naive_bayes(X_test,y_test,logprior, loglikelihood)\n",
    "    print(accuracy)\n",
    "    \n",
    "    con_matrix = confusion_matrix(y_test, predictions, labels=[0 , 1])\n",
    "    disp = ConfusionMatrixDisplay(confusion_matrix=con_matrix, display_labels=[\"positive\", \"Negative\"])\n",
    "    disp.plot()\n",
    "    plt.show()\n",
    "    \n",
    "    return"
   ]
  },
  {
   "cell_type": "code",
   "execution_count": 92,
   "id": "1285809f-8212-4695-9b69-dafa1e972ff1",
   "metadata": {},
   "outputs": [
    {
     "name": "stdout",
     "output_type": "stream",
     "text": [
      "0.8799514955537591\n",
      "0.8799514955537591\n"
     ]
    },
    {
     "data": {
      "image/png": "[encoded data removed]",
      "text/plain": [
       "<Figure size 432x288 with 2 Axes>"
      ]
     },
     "metadata": {
      "needs_background": "light"
     },
     "output_type": "display_data"
    }
   ],
   "source": [
    "random_accuracy_check(df_upsampled, 2)"
   ]
  },
  {
   "cell_type": "markdown",
   "id": "3b2876ca-9185-46d6-9794-9ee9c7d583a4",
   "metadata": {},
   "source": [
    "# False Negative analysis\n",
    "\n",
    "Review: Chances are, you'll think this movie is incredibly stupid the first time you watch it. But if, by chance, you watch it a second and third and fourth and fifth time (I'm well into the hundreds by now), you will find yourself spitting a line from it here and there and cracking yourself up! My friends and I have actually thrown Fear of a Black Hat Parties to get more of our friends, \"as they say, down with the riots\".\n",
    "Actual classification : Positive\n",
    "Model classificiation: Negative\n",
    "\n",
    "Here the review is falsely classified as negative because of the words like stupid and fear as these words have a high positive loglikelihood."
   ]
  },
  {
   "cell_type": "markdown",
   "id": "3de4dc40-0bfa-47a9-949c-b3f8b47654ec",
   "metadata": {},
   "source": [
    "# False Positive analysis\n",
    "\n",
    "I finally rented this video after searching for it for many months. Initially I only wanted to see it because I'm an out and out Neil Pearson fan (Patrick, boyfriend of Isobel, the lead). However, the movie stands up very well without Neil (although he handles himself very well in this movie, he is overshadowed by the three main female characters). It's an eerie, intense movie, the sort the Brits do so well - definitely a \"chick flick\" the house and it's isolated setting giving the movie an almost \"Wuthering Heights\" aura. The movie is full of tension and the ending, shocking, yet somehow inevitable. I'm glad I watched it, it was worth the wait\n",
    "\n",
    "Actual classification: Negative\n",
    "Model Classification: Positive\n",
    "\n",
    "Here the review is falsely classified as positive because of the words such as intense, aura as these words have a high negative loglikelihood."
   ]
  },
  {
   "cell_type": "markdown",
   "id": "a3301d83-b34e-4424-8851-435195595c70",
   "metadata": {},
   "source": [
    "# Reason\n",
    "\n",
    "We see that a review is falsely classified as positive or negative because Naive bayes works on the concept of \"Bag of words\", it does not consider the overall sentiment of the sentence but just words. Hence, if in a positive review there are words that have a high loglikelihood then the entire review will be classified as negative"
   ]
  },
  {
   "cell_type": "markdown",
   "id": "XbzttYVnBo7W",
   "metadata": {
    "id": "XbzttYVnBo7W"
   },
   "source": [
    "# Q8. Modularize your calssifier (10 points)\n",
    "1. Convert your code into a python module text_classifier.py\n",
    "\n",
    "2. The user should be able to launch the application on command prompt using python test_classifier.py command. The module will automatically load the model paramters from a local file of your choice and be ready to take the input from user on command prompt. The program will preprocess user input, tokenize and predict the class.\n",
    "\n",
    "3. Your module will take the input from user and output sentiment class in an indefinite loop. The output should printout the probabilities for each input token along with the final classification decision. Program will quit if user enters X.\n"
   ]
  },
  {
   "cell_type": "code",
   "execution_count": 38,
   "id": "ab1469f5-cf1d-43ac-8289-dfdbe1e6d150",
   "metadata": {},
   "outputs": [],
   "source": [
    "# picklelogprior, pickleloglikelihood = logprior, loglikelihood"
   ]
  },
  {
   "cell_type": "code",
   "execution_count": 39,
   "id": "349137ff-ea71-4fa7-9347-fc995caaf8cd",
   "metadata": {},
   "outputs": [],
   "source": [
    "# pickledata = [picklelogprior, pickleloglikelihood]"
   ]
  },
  {
   "cell_type": "code",
   "execution_count": 40,
   "id": "20fd1b0a-1d4d-4921-a478-26392031ffd1",
   "metadata": {},
   "outputs": [],
   "source": [
    "# pickle.dump(pickledata, open('pickledata.pkl', 'wb'))"
   ]
  },
  {
   "cell_type": "code",
   "execution_count": 41,
   "id": "8ce2e0f2-ae62-4d84-bbfe-8e24dabda4ac",
   "metadata": {},
   "outputs": [
    {
     "data": {
      "text/plain": [
       "0.0"
      ]
     },
     "execution_count": 41,
     "metadata": {},
     "output_type": "execute_result"
    }
   ],
   "source": [
    "# correctPickle = pickle.load(open('./pickledata.pkl', 'rb'))\n",
    "# correctPickle[0]"
   ]
  },
  {
   "cell_type": "markdown",
   "id": "82e6e4d1",
   "metadata": {
    "id": "82e6e4d1",
    "tags": []
   },
   "source": [
    "# Q9. Theory Questions: (10 points)\n",
    "\n",
    "1. Why is Laplace Smoothing or Additive Smoothing required while executing Naive Bayes operations, especially for text classification? Show how not having additive smoothing leads to bad outcomes by using an example of training and the test set. (10 points)\n",
    "\n",
    "\n",
    "2. Why are logarithmic values computed instead of only probability values in the Naive Bayes algorithm? (5 points)"
   ]
  },
  {
   "cell_type": "markdown",
   "id": "43aa504a-ce75-42e9-9c5e-780944177865",
   "metadata": {},
   "source": [
    "## 9.1 Laplace smoothing\n",
    "\n",
    "Laplace smoothing was introduced in Naive bayes to solve the zero probability problem.\n",
    "As we build a log likelihood table for the training data and query a review, but if a word(W) in review is not present in the training dataset then the P(W|positive/negative) will be zero.\n",
    "Since we multiply all the likelihood values and W have the value as zero will result in P(negative/positive|review) = 0\n",
    "Hence Laplace smoothing or Additive smoothing is required while executing Naive Bayes operations.\n",
    "Laplace smoothing can be represented with the equation\n",
    "\n",
    "P(W|positive) = (No. of reviews with W and y = positive + α)/(N + α* K)\n",
    "Here α is the smoothing parameter, which should not be equal to zero\n",
    "α would be any number by is generally considered as 1.\n",
    "\n",
    "Illustrating not adding smoothing in Naive Bayes operation\n",
    "Test set\n",
    "In the review: \"I finally rented this video after searching for it for many months. Initially I only wanted to see it because I'm an out and out Neil Pearson fan (Patrick, boyfriend of Isobel, the lead). However, the movie stands up very well without Neil (although he handles himself very well in this movie, he is overshadowed by the three main female characters). It's an eerie, intense movie, the sort the Brits do so well - definitely a \"chick flick\" the house and it's isolated setting giving the movie an almost \"Wuthering Heights\" aura. The movie is full of tension and the ending, shocking, yet somehow inevitable. I'm glad I watched it, it was worth the wait\". Considering the word \"Isobel\" is not present in the training set then the log likelihood of the word will be zero and the probability of the entire sentence will be zero and hence this review will not be classified into positive or negative class. \n",
    "\n",
    "Train set\n",
    "In the review: \"Brought Philip Larkin to life in a way that is worthy of the greatest performances of all time, and not just the ones that are measured by popularity. It shows a stark portrayal of Larkins life as the greatest unrecognized poet of his era - which is exactly how he would have wanted it, such was his disdain for cankers and medallions. It dramatically exposes the raw beauty in the intense sadness of Philips observations of our relationship with our own mortality, and lays it our in a way that seems to have missed even the great philosophers. for anyone interested in profound observations of our relationship with life, love and death this is a must.\"\n",
    "\n",
    "Here the word \"Larkin\" is not present in the test set so the value of this entire sentence will be zero"
   ]
  },
  {
   "cell_type": "markdown",
   "id": "fbe6d93a-e45a-42d6-965a-fe6339039d34",
   "metadata": {},
   "source": [
    "## 9.2 Logarithmic value\n",
    "\n",
    "The Naive Bayes estimates the probability of each class and probability of each word in the review in the training phase\n",
    "P(Wpos)=(freq(pos)+1)/(N(pos)+V)\n",
    "It also calculates the absence of the word. Naive bayes then uses MAP technique to predict a class\n",
    "\n",
    "If the code for the MAP techique formula is implemented, the problem arises when the size of the vocabulary grows large. As the probability for each word for each hypothesis lies between 0 and 1. Multiplying all the words in the review would give a number which is very close to zero, which can not be expressed in double or float or even long double. This results in loss of precision and hence we calculate logarithmic value instead of calculating only probability value. \n",
    "\n",
    "The major advantage of doing so is:\n",
    "1. The comparing remains the same, comparing probability values and logarithmic values are essentially the same and hence the result is not altered\n",
    "2. The comparsion range gets wider as the log-probability is between −∞ and 0\n",
    "3. The resulting sums can be expressed clearly"
   ]
  }
 ],
 "metadata": {
  "colab": {
   "collapsed_sections": [],
   "name": "CS6120_NLP_Assignment_1_Notebook.ipynb",
   "provenance": [],
   "toc_visible": true
  },
  "kernelspec": {
   "display_name": "Python 3 (ipykernel)",
   "language": "python",
   "name": "python3"
  },
  "language_info": {
   "codemirror_mode": {
    "name": "ipython",
    "version": 3
   },
   "file_extension": ".py",
   "mimetype": "text/x-python",
   "name": "python",
   "nbconvert_exporter": "python",
   "pygments_lexer": "ipython3",
   "version": "3.9.13"
  }
 },
 "nbformat": 4,
 "nbformat_minor": 5
}
